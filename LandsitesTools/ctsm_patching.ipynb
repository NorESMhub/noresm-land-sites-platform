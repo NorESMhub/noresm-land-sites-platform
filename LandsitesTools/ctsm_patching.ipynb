{
 "cells": [
  {
   "cell_type": "code",
   "execution_count": 1,
   "id": "southern-worth",
   "metadata": {},
   "outputs": [
    {
     "name": "stdout",
     "output_type": "stream",
     "text": [
      "/home/huitang/Documents/MossLichen_testbed/scripts\n"
     ]
    }
   ],
   "source": [
    "%%bash\n",
    "\n",
    "# copy configuration files and bug fixes into noresm/clm component\n",
    "\n",
    "cp config/ctsm/config_component_ctsm.xml noresm2/components/clm/cime_config/config_component.xml\n",
    "cp config/ctsm/namelist_defaults_ctsm.xml noresm2/components/clm/bld/namelist_files/\n",
    "cp config/ctsm/CLMBuildNamelist.pm noresm2/components/clm/bld/\n",
    "cp config/ctsm/bug_fix/clmfates_interfaceMod.F90 noresm2/components/clm/src/utils/clmfates_interfaceMod.F90\n",
    "\n",
    "# copy configuration files into noresm/cime component\n",
    "\n",
    "cp config/cime/config_batch.xml noresm2/cime/config/cesm/machines/\n",
    "cp config/cime/config_compilers.xml noresm2/cime/config/cesm/machines/\n",
    "cp config/cime/config_machines.xml noresm2/cime/config/cesm/machines/\n",
    "cp config/cime/config_grids.xml noresm2/cime/config/cesm/\n",
    "cp config/cime/config_component_datm.xml noresm2/cime/src/components/data_comps_mct/datm/cime_config/config_component.xml\n",
    "cp config/cime/namelist_defaults_datm.xml noresm2/cime/src/components/data_comps_mct/datm/cime_config/namelist_definition_datm.xml\n",
    "cp config/cime/configure noresm2/cime/src/externals/mct/configure"
   ]
  }
 ],
 "metadata": {
  "kernelspec": {
   "display_name": "Python 3",
   "language": "python",
   "name": "python3"
  },
  "language_info": {
   "codemirror_mode": {
    "name": "ipython",
    "version": 3
   },
   "file_extension": ".py",
   "mimetype": "text/x-python",
   "name": "python",
   "nbconvert_exporter": "python",
   "pygments_lexer": "ipython3",
   "version": "3.8.5"
  }
 },
 "nbformat": 4,
 "nbformat_minor": 5
}
