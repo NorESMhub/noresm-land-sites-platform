{
 "cells": [
  {
   "cell_type": "markdown",
   "id": "36e945e1-b277-4b4a-8d99-071ad793bbdb",
   "metadata": {
    "tags": []
   },
   "source": [
    "# Combine multiple NetCDF outputs into one file\n",
    "\n",
    "In the likely case that you produced multiple output `.nc` files during a simulation (open the `cases/[case_id]/archive/lnd/hist/` folder to double-check), we highly recommend to concatenate these into a new single file to simplify and speed up the data analysis. Use this notebook before moving on to the output analysis notebooks.\n",
    "\n",
    "Text cells in this notebook follow Markdown syntax, while code cells are a mix of Python and bash code. We will use [cell magic commands](https://ipython.readthedocs.io/en/stable/interactive/magics.html) to call an external command line tool.\n",
    "\n",
    "**Adjust the following variable names to your use-case.**"
   ]
  },
  {
   "cell_type": "code",
   "execution_count": 1,
   "id": "badd8ff0-e153-47c3-a0e7-23c54f9de824",
   "metadata": {},
   "outputs": [],
   "source": [
    "# Name of case folder, e.g.: 5994e825658b853b95d61feccffd18ad_alp1\n",
    "case_id = \"8eee62b13ed6c7b49b39e2ba02120d9d_sub1-10years\"\n",
    "# Recommended to leave unchanged, one level above original output files to avoid long loading times and conflicts\n",
    "output_path_str = f\"/cases/{case_id}/archive/lnd/hist/\"\n",
    "save_path_str = f\"/cases/{case_id}/archive/lnd/\""
   ]
  },
  {
   "cell_type": "markdown",
   "id": "43164c86-6e70-4d3a-bf9e-f460ca876702",
   "metadata": {},
   "source": [
    "Now you have specified where the files are stored, and we can combine them. The `*` in the following cell denotes a so-called wild-card, so this example will combine **all** files for history tape 0 (`h0`) contained in `cases/[case_id]/archive/lnd/hist/`. Adjust this if you want to combine outputs for a different history tape that you may have included when creating a case in the user interface. If you have several history tapes, you should repeat this whole notebook for additional tapes and give them meaningful names.\n",
    "\n",
    "Set `NC_OUT_NAME` to a descriptive name for the resulting combined single file. The given example uses the case ID and a model simulation period of 1000 years."
   ]
  },
  {
   "cell_type": "code",
   "execution_count": 2,
   "id": "00e84d9c-1cab-4450-b05b-0b4db042f61e",
   "metadata": {},
   "outputs": [],
   "source": [
    "import os\n",
    "\n",
    "hist_tape = \"h0\" # Name of the history tape to combine into a single file\n",
    "\n",
    "os.environ['NCFILES_TO_COMBINE'] = f\"*{hist_tape}*.nc\" # Name of output .nc files to combine (see wild card comment in text above)\n",
    "os.environ['NC_OUT_NAME'] = f\"{case_id}.{hist_tape}.0001-0010.nc\" # Descriptive name for the resulting combined file"
   ]
  },
  {
   "cell_type": "markdown",
   "id": "7d75c767-79a3-409e-a5a0-5f61cc47a45e",
   "metadata": {},
   "source": [
    "_End of required user inputs. The rest of the script will work automatically but can be adapted if you want custom changes._\n",
    "\n",
    "---"
   ]
  },
  {
   "cell_type": "code",
   "execution_count": 3,
   "id": "de894198-0b31-40bd-a2e1-c972a65899df",
   "metadata": {},
   "outputs": [],
   "source": [
    "os.environ['CASE_ID'] = case_id\n",
    "os.environ['CASE_HIST_PATH'] = output_path_str\n",
    "os.environ['SAVE_PATH'] = save_path_str"
   ]
  },
  {
   "cell_type": "markdown",
   "id": "d13ec829-8ab3-44f9-868b-7242d30e56d0",
   "metadata": {},
   "source": [
    "Use cell magic to concatenate the files with `ncrcat`. It can take some time (several minutes) if it needs to combine many files."
   ]
  },
  {
   "cell_type": "code",
   "execution_count": 4,
   "id": "92d4c14f-d8b1-43df-9149-7ff30b08a9f3",
   "metadata": {},
   "outputs": [],
   "source": [
    "!ncrcat $HOME$CASE_HIST_PATH$NCFILES_TO_COMBINE $HOME$SAVE_PATH$NC_OUT_NAME"
   ]
  }
 ],
 "metadata": {
  "kernelspec": {
   "display_name": "Python 3 (ipykernel)",
   "language": "python",
   "name": "python3"
  },
  "language_info": {
   "codemirror_mode": {
    "name": "ipython",
    "version": 3
   },
   "file_extension": ".py",
   "mimetype": "text/x-python",
   "name": "python",
   "nbconvert_exporter": "python",
   "pygments_lexer": "ipython3",
   "version": "3.10.6"
  },
  "vscode": {
   "interpreter": {
    "hash": "98bd30b8b4c3c7b34184719ef7bcbbe0e9ad7d5e716650527163f9a187dd92d9"
   }
  }
 },
 "nbformat": 4,
 "nbformat_minor": 5
}
