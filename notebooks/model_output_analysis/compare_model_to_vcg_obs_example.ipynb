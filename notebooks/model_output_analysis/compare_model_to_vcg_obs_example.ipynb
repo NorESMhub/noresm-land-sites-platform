{
 "cells": [
  {
   "cell_type": "markdown",
   "id": "0b95de56-8efe-41be-ba0d-8aa9a3a7c801",
   "metadata": {},
   "source": [
    "# Comparing model input and output to observations - Vestland Climate Grid\n",
    "\n",
    "This notebooks illustrates relating the CTSM-FATES model output to available observational data from the Vestland Climate Grid. We use modelled and observed soil temperatures as an example. The workflow highlights common challenges for comparing ecological observations to LSM/DGVM data. General hurdles are...\n",
    "\n",
    "- ...harmonizing the temporal and spatial scales (aggregated grid cell resolutions (km) vs. local observations (cm-m), decade to century scale simulations vs. few year observational studies, etc.)\n",
    "- ...different jargon and foci of different scientific disciplines (e.g. variables of interest, species-level studies vs. PFT representation in models, etc.)\n",
    "- ...data access, documentation, and formats\n",
    "\n",
    "A main goal of the NorESM modelling platform is to improve the mutual understanding between ecological data collectors and the earth system modelling community. In addition to giving users easier access to running simulations, we want to showcase how common field observations relate to default model inputs and outputs. Simplified adjustments of the models to better represent small-scale conditions of field experiments will be the next crucial step to make LSMs and DGVMs a more attractive tool for data collectors - for example, to find novel applications for studying dynamic ecological processes depending on vegetation-climate interactions.\n",
    "\n",
    "The `Vestland Climate Grid` sites you can choose within the NorESM-LSP's GUI provide datasets for various 'classical' ecological experiments, for example, vegetation removal or artificial fertilization. This workflow example highly benefits from the fact that the VCG data follows the [FAIR principles](https://www.go-fair.org/fair-principles/) for data management and stewardship. We can directly access it from the open data management platform [OSF](https://osf.io/) and attain an easily reproducible analysis."
   ]
  },
  {
   "cell_type": "markdown",
   "id": "c34f526b-0dc5-48ef-abd8-7fe3e4233702",
   "metadata": {},
   "source": [
    "## Specify folders and load VCG data"
   ]
  },
  {
   "cell_type": "code",
   "execution_count": null,
   "id": "aa86cbfc-0cd3-4408-bf7b-2a0b43be3b95",
   "metadata": {},
   "outputs": [],
   "source": [
    "import xarray as xr  # NetCDF data handling\n",
    "import matplotlib.pyplot as plt  # Plotting\n",
    "import time  # Keeping track of runtime\n",
    "import json  # For reading data dictionaries stored in json format\n",
    "import pandas as pd  # Tabular data analysis\n",
    "import datetime as dt  # for workaround with long simulations (beyond year 2262)\n",
    "from pathlib import Path"
   ]
  },
  {
   "cell_type": "markdown",
   "id": "32b0b6f8-8001-4293-bc2a-b242184bf635",
   "metadata": {},
   "source": [
    "<span style=\"color:red\">Attention!</span> **This workflow only works with existing model output for one of the following Vestland Climate Grid observation sites.**"
   ]
  },
  {
   "cell_type": "code",
   "execution_count": null,
   "id": "7fd87743-bb86-442f-9c43-c1a285401ca7",
   "metadata": {
    "tags": []
   },
   "outputs": [],
   "source": [
    "with open(Path(\"../../config/sites.json\"), 'r', encoding='utf-8') as lsp_sites_json:\n",
    "    lsp_sites_dict = json.load(lsp_sites_json)\n",
    "    \n",
    "print(f\"{'Case name':>9}{'Long name':>25}\")\n",
    "print('-'*34)\n",
    "_ = [print(f\"{cur_site['properties']['name']:>9}{cur_site['properties']['long_name']:>25}\") for cur_site in lsp_sites_dict['features']\n",
    "     if cur_site['properties']['group'] == \"SeedClim\"]"
   ]
  },
  {
   "cell_type": "code",
   "execution_count": null,
   "id": "a2c9d435-2b31-414d-991e-d2ce1f07afc1",
   "metadata": {},
   "outputs": [],
   "source": [
    "# Add the full case name in quotation marks here! E.g.: \"5994e825658b853b95d61feccffd18ad_bor1-1000y\"\n",
    "case_name = \"5994e825658b853b95d61feccffd18ad_bor1-1000y\"\n",
    "\n",
    "# Enter the case ID (aka. short site code, see table above) in quotation marks here! E.g.: \"BOR1\".\n",
    "# ATTENTION! This is case sensitive and important to find the right paths: use the correct capitalization of letters!\n",
    "case_id = \"BOR1\"\n",
    "\n",
    "# Path to the case's land archive output, i.e. the folder containing the `.nc` file(s) you want to analyse. \n",
    "# Only change this line if you renamed/moved the folder or moved files from the default location!\n",
    "output_data_path = Path(f\"../../cases/{case_name}/archive/lnd/\")"
   ]
  },
  {
   "cell_type": "markdown",
   "id": "2c626c1b-bee2-46a9-8062-b0e22cc244c4",
   "metadata": {},
   "source": [
    "### Enter the name(s) of the output file(s) - READ CAREFULLY!\n",
    "**Attention! By default, the model produces many seperate output files (one per month). You should concatenate them using the [combine_nc_files.ipynb](../../notebooks/combine_nc_files.ipynb) notebook to facilitate and speed up the analysis.**\n",
    "\n",
    "However, if you want to combine multiple files 'on the fly', you can uncomment the respective line in the next code cell and adapt it accordingly - note that this process can take some time!"
   ]
  },
  {
   "cell_type": "code",
   "execution_count": null,
   "id": "3d7a8e3b-e583-4aaa-81b0-20d8f598096b",
   "metadata": {},
   "outputs": [],
   "source": [
    "# Enter the name of a single output file, e.g. created with the 'combine_nc_files' notebook. For example:\n",
    "file_path = f\"{output_data_path}/5994e825658b853b95d61feccffd18ad_bor1-1000y.h0.0001-1000.nc\"\n",
    "\n",
    "# Optional: enter name to read in multiple output files\n",
    "# The following line uses '*' wild card notation to combine all files from a given history tape on the fly\n",
    "# file_path = f\"{output_data_path}/hist/*h0*.nc\"  # Example for reading in multiple files at once, i.e. all in the given folder for history tape zero"
   ]
  },
  {
   "cell_type": "code",
   "execution_count": null,
   "id": "0ce675e3-2629-4ecc-ad30-fc00de7de907",
   "metadata": {},
   "outputs": [],
   "source": [
    "# Read data, normally no need to change\n",
    "output_nc_data = xr.open_mfdataset(\n",
    "    file_path,\n",
    "    combine='by_coords',\n",
    "    decode_times=True\n",
    ")"
   ]
  },
  {
   "cell_type": "markdown",
   "id": "70e15ae1-c50a-4ffa-ab18-6462b4606ce5",
   "metadata": {
    "tags": []
   },
   "source": [
    "---\n",
    "## Modelled soil temperature\n",
    "We will extract measurements for soil temperature and relate them to the modelled counterpart in the CLM-FATES simulation. CLM-FATES mechanistically calculates soil temperature and heat transfer based on e.g. the atmospheric forcings, soil and land cover characteristics, and other modelled properties such as the snow cover or the radiative transer through the modelled vegetation. Note that due to the time mismatch between the available observational data and the climate forcing data we provide in the first NorESM-LSP release ([GSWP3](https://www.isimip.org/gettingstarted/details/4/)), we will not be able to compare the exact same points in time - but it does give us an idea if the model somewhat realistically represents the observed patterns.\n",
    "\n",
    "By setting the `use_bedrock` flag to `True` when setting up a simulation (the NorESM-LSP default), we tell parts of the model to use a site-specific soil depth from a dataset rather than the full default ground column (visualised in a plot below). This is an example for how we could use _in situ_ observational data to constrain the model **inputs**: we could also provide soil depth measurements from the site to directly manipulate the input surface data NetCDF file, rather than using values from a global interpolated dataset."
   ]
  },
  {
   "cell_type": "code",
   "execution_count": null,
   "id": "6489e6cd-ee95-4986-9fb8-23b06a17ecae",
   "metadata": {},
   "outputs": [],
   "source": [
    "# Soil temperature history variable in CLM\n",
    "var_name = \"TSOI\""
   ]
  },
  {
   "cell_type": "code",
   "execution_count": null,
   "id": "63b41ad3-485f-41ca-a55a-a169f33def27",
   "metadata": {},
   "outputs": [],
   "source": [
    "# Retrieve soil temperature from model output, convert to deg. C\n",
    "model_soil_temp = output_nc_data[var_name] - 273.15\n",
    "model_soil_temp.attrs[\"long_name\"] = \"Soil temperature per ground level\"\n",
    "model_soil_temp.attrs[\"units\"] = \"deg.C\"\n",
    "model_soil_temp"
   ]
  },
  {
   "cell_type": "code",
   "execution_count": null,
   "id": "48defb91-e964-4cbd-85d9-1858cdc4fa41",
   "metadata": {
    "scrolled": true,
    "tags": []
   },
   "outputs": [],
   "source": [
    "# Investigate the vertical resolution of the included ground levels. See:\n",
    "# https://escomp.github.io/ctsm-docs/versions/release-clm5.0/html/tech_note/Ecosystem/CLM50_Tech_Note_Ecosystem.html#id17\n",
    "from matplotlib.offsetbox import AnchoredText\n",
    "\n",
    "fig, ax = plt.subplots(figsize=(6, 6))\n",
    "\n",
    "for ground_level in model_soil_temp.levgrnd.values:\n",
    "    \n",
    "    ax.axhline(ground_level,\n",
    "               color=\"#696969\",\n",
    "               linestyle=\"dashed\",\n",
    "              )\n",
    "# Plot layout\n",
    "ax.set_title(\"Model ground levels\")\n",
    "ax.set_ylabel(\"Depth [m]\")\n",
    "ax.get_xaxis().set_visible(False)\n",
    "ax.invert_yaxis()\n",
    "\n",
    "# Add text box to show number of ground levels\n",
    "anchored_text = AnchoredText(f\"n ground levels = {len(model_soil_temp.levgrnd.values)}\", loc=4)\n",
    "ax.add_artist(anchored_text)"
   ]
  },
  {
   "cell_type": "markdown",
   "id": "a8bf9d01-03b7-4aef-be07-faac664c9eba",
   "metadata": {},
   "source": [
    "Plot the modelled ground temperatures for the top 15 meters for the last 10 years of the simulation. Change `n_last_years` if the simulation was shorter than 10 years."
   ]
  },
  {
   "cell_type": "code",
   "execution_count": null,
   "id": "930577fa-bd3a-42e4-b86c-841a1f8ce284",
   "metadata": {},
   "outputs": [],
   "source": [
    "n_last_years = 10\n",
    "max_depth = 15  # [m]\n",
    "idx_soil_layers_15m = (model_soil_temp.levgrnd < max_depth).values.sum() - 1\n",
    "\n",
    "fig, ax = plt.subplots(figsize=(16, 8))\n",
    "\n",
    "color_bar_plot = model_soil_temp.isel(\n",
    "    levgrnd=slice(0, idx_soil_layers_15m)\n",
    ").where(\n",
    "    model_soil_temp['time.year'] > (max(model_soil_temp['time.year']) - n_last_years), drop=True\n",
    ").T.plot(ax=ax,\n",
    "         cbar_kwargs={\n",
    "             'label': \"Temperature [°C]\"\n",
    "             }\n",
    "        )\n",
    "\n",
    "# Make plot more intuitive by setting depth=0 to the top\n",
    "ax.invert_yaxis()\n",
    "\n",
    "# Title and labels\n",
    "ax.set_title(f\"{case_id}: modelled soil and ground temperature for ground levels < 15 m\")\n",
    "ax.set_ylabel(\"Depth [m]\", fontsize=14)\n",
    "ax.set_xlabel(\"Simulation year\", fontsize=14);"
   ]
  },
  {
   "cell_type": "markdown",
   "id": "489ed396-7a95-4e48-a830-cc18db2e1557",
   "metadata": {},
   "source": [
    "Next, we will load the observational data. Refer to https://osf.io/4c5v2/ for the full documentation and additional information. We can directly download the data from OSF into a DataFrame using the Python code below.\n",
    "\n",
    "**Citation**: Vandvik, V., Telford, R. J., Halbritter, A. H., Jaroszynska, F., Lynn, J. S., Geange, S. R., … Rüthers, J. (2022, April 5). FunCaB - The role of functional group interactions in mediating climate change impacts on the Carbon dynamics and biodiversity of alpine ecosystems. Retrieved from osf.io/4c5v2."
   ]
  },
  {
   "cell_type": "code",
   "execution_count": null,
   "id": "a2687ed6-dcab-49c5-91c8-99a7a497d36b",
   "metadata": {},
   "outputs": [],
   "source": [
    "# Download data directly from OSF storage, make sure you are connected to the internet\n",
    "vcg_soil_temp_obs_df = pd.read_csv(\"https://osf.io/7tgxb/download\", low_memory=False)"
   ]
  },
  {
   "cell_type": "code",
   "execution_count": null,
   "id": "602c7e33-ba2f-4450-bbaf-09462cb88b2b",
   "metadata": {},
   "outputs": [],
   "source": [
    "# Print first rows\n",
    "vcg_soil_temp_obs_df.head()"
   ]
  },
  {
   "cell_type": "code",
   "execution_count": null,
   "id": "30cc5fcf-ea62-458e-859d-45cd724d32a3",
   "metadata": {},
   "outputs": [],
   "source": [
    "# Read dictionary for mapping the name of the NorESM platform site codes to the corresponding name in the VCG dataset\n",
    "with open(Path(\"./dicts/vestland_climate_grid.json\"), 'r', encoding='utf-8') as vcg_site_json:\n",
    "    vcg_site_dict = json.load(vcg_site_json).get(\"sites\")"
   ]
  },
  {
   "cell_type": "code",
   "execution_count": null,
   "id": "e317b5ce-8845-4074-990a-9b983a44db5f",
   "metadata": {},
   "outputs": [],
   "source": [
    "# Subset soil temperatures for utilized site\n",
    "mysite_soil_temp_obs_df = vcg_soil_temp_obs_df[vcg_soil_temp_obs_df[\"siteID\"] == vcg_site_dict[case_id]['osf_csv_name']]\n",
    "mysite_soil_temp_obs_df.head()"
   ]
  },
  {
   "cell_type": "code",
   "execution_count": null,
   "id": "81e7749a-a560-460a-9c29-9b1f808caa52",
   "metadata": {},
   "outputs": [],
   "source": [
    "# Print period for available measurements\n",
    "print(f\"From: {min(mysite_soil_temp_obs_df['date_time'])}\")\n",
    "print(f\"To: {max(mysite_soil_temp_obs_df['date_time'])}\")"
   ]
  },
  {
   "cell_type": "code",
   "execution_count": null,
   "id": "439e2e6b-e85d-45dc-87fe-c8f4f24dba7d",
   "metadata": {},
   "outputs": [],
   "source": [
    "# Next we calculate monthly means\n",
    "monthly_mean_df = mysite_soil_temp_obs_df.groupby(\n",
    "    pd.PeriodIndex(mysite_soil_temp_obs_df['date_time'], freq='M')\n",
    ")['soiltemperature'].mean()\n",
    "\n",
    "# Convert to DataFrame\n",
    "monthly_mean_df = monthly_mean_df.to_frame()"
   ]
  },
  {
   "cell_type": "code",
   "execution_count": null,
   "id": "12b8223e-726a-4895-aa13-3394bf338ab6",
   "metadata": {},
   "outputs": [],
   "source": [
    "monthly_mean_df"
   ]
  },
  {
   "cell_type": "code",
   "execution_count": null,
   "id": "9440681a-527d-45c7-8e1f-cfbdac0be400",
   "metadata": {},
   "outputs": [],
   "source": [
    "# Calculate yearly mean (to enable yearly comparison to model output)\n",
    "monthly_mean_df['date_dt'] = pd.to_datetime(monthly_mean_df.index.to_timestamp())\n",
    "monthly_mean_df.groupby(monthly_mean_df.date_dt.dt.year)['soiltemperature'].transform('mean')\n",
    "monthly_mean_df = monthly_mean_df.reset_index()\n",
    "# Add integer month column for easier data handling later on\n",
    "monthly_mean_df['month_int'] = [int(pd.to_datetime(x).strftime('%m')) for x in monthly_mean_df['date_dt'].values]\n",
    "monthly_mean_df"
   ]
  },
  {
   "cell_type": "code",
   "execution_count": null,
   "id": "b290927b-777d-4aa9-93e7-85aa18523e6b",
   "metadata": {},
   "outputs": [],
   "source": [
    "# Plot for quick visualization\n",
    "import matplotlib.dates as mdates\n",
    "\n",
    "fig, ax = plt.subplots(figsize=(6, 6))\n",
    "\n",
    "ax.plot(monthly_mean_df['date_dt'],\n",
    "        monthly_mean_df['soiltemperature']\n",
    "       )\n",
    "ax.set_title(f\"{case_id}: monthly mean soil temperatures\")\n",
    "ax.set_xlabel(\"Month\")\n",
    "ax.set_ylabel(\"Mean soil temperature [C]\")\n",
    "ax.xaxis.set_major_formatter(mdates.DateFormatter('%b'))"
   ]
  },
  {
   "cell_type": "markdown",
   "id": "5c6c0cfe-812a-421f-ac43-0f4dcabe2b26",
   "metadata": {},
   "source": [
    "## Modelled and observed in one plot\n",
    "The observation plot above shows averages from multiple temperature loggers buried in approximately 5 cm depth. We thus calculate the arithmetic mean of the 2nd and 3rd CLM default ground layers (node depths: 4cm and 9cm, respectively) for comparison. We use the range of temperatures for the last 10 simulation years. For interpretation, keep in mind that this exercise makes most sense when the utilized model simulation has been properly spun up and the utilized climate forcings within and before that period are comparable to the measurements' observation dates. In addition, comparing the broader scale default CLM-FATES output to the small-scale observations can result in comparing the soil temperatures of modelled areas with e.g. tree cover to tree-free patches of grass, which are the study focus of the VCG data."
   ]
  },
  {
   "cell_type": "code",
   "execution_count": null,
   "id": "070f3a2a-8613-4c21-aad4-501dccb2beb8",
   "metadata": {},
   "outputs": [],
   "source": [
    "# Extract top soil layers (around 10cm), subset last n simulation years defined above, calculate monthly averages (from default 3h model timesteps)\n",
    "top_2_layer_10y_soil_temp = model_soil_temp.isel(\n",
    "    levgrnd=slice(1, 3)\n",
    ").where(\n",
    "    model_soil_temp['time.year'] > (max(model_soil_temp['time.year']) - n_last_years), drop=True\n",
    ").mean(\n",
    "    dim=\"levgrnd\"\n",
    ").resample(time='1M').mean()"
   ]
  },
  {
   "cell_type": "code",
   "execution_count": null,
   "id": "74b5c3e6-8cce-4bd5-8667-f4fc8cffed19",
   "metadata": {},
   "outputs": [],
   "source": [
    "# Determine maximum and minimum temperatures over given period\n",
    "monthly_modelled_max_soil_temp_df = \\\n",
    "top_2_layer_10y_soil_temp.groupby(\"time.month\").max().to_dataframe().reset_index(level=['month', 'lndgrid'])\n",
    "\n",
    "monthly_modelled_min_soil_temp_df = \\\n",
    "top_2_layer_10y_soil_temp.groupby(\"time.month\").min().to_dataframe().reset_index(level=['month', 'lndgrid'])"
   ]
  },
  {
   "cell_type": "code",
   "execution_count": null,
   "id": "41b4c637-fa82-4bb8-9c17-611d098fa50b",
   "metadata": {},
   "outputs": [],
   "source": [
    "# Map modelled monthly values to observed monthly values\n",
    "monthly_mean_df['model_max_of_mean_monthly_soil_temp'] = None\n",
    "monthly_mean_df['model_min_of_mean_monthly_soil_temp'] = None\n",
    "\n",
    "for cur_month in monthly_mean_df['month_int']:\n",
    "    \n",
    "    # Max temperatures\n",
    "    monthly_mean_df.loc[(monthly_mean_df['month_int'] == cur_month),\n",
    "                        'model_max_of_mean_monthly_soil_temp'] = \\\n",
    "    monthly_modelled_max_soil_temp_df.loc[(monthly_modelled_max_soil_temp_df['month'] == cur_month), 'TSOI'].values\n",
    "    \n",
    "    # Min temperatures\n",
    "    monthly_mean_df.loc[(monthly_mean_df['month_int'] == cur_month),\n",
    "                        'model_min_of_mean_monthly_soil_temp'] = \\\n",
    "    monthly_modelled_min_soil_temp_df.loc[(monthly_modelled_min_soil_temp_df['month'] == cur_month), 'TSOI'].values\n",
    "\n",
    "# Convert datatype from object to float (prevents bug in plotting)\n",
    "monthly_mean_df['model_max_of_mean_monthly_soil_temp'] = monthly_mean_df['model_max_of_mean_monthly_soil_temp'].astype(float)\n",
    "monthly_mean_df['model_min_of_mean_monthly_soil_temp'] = monthly_mean_df['model_min_of_mean_monthly_soil_temp'].astype(float)\n",
    "monthly_mean_df"
   ]
  },
  {
   "cell_type": "code",
   "execution_count": null,
   "id": "6ff18eb8-793d-4601-ad8b-5deca943c37e",
   "metadata": {
    "tags": []
   },
   "outputs": [],
   "source": [
    "# Create plot\n",
    "import matplotlib.dates as mdates\n",
    "\n",
    "fig, ax = plt.subplots(figsize=(12, 6))\n",
    "\n",
    "ax.plot(monthly_mean_df['date_dt'],\n",
    "        monthly_mean_df['soiltemperature'],\n",
    "        color=\"red\",\n",
    "        linewidth=2,\n",
    "        label=\"Mean yearly\\nobserved\"\n",
    "       )\n",
    "\n",
    "ax.plot(monthly_mean_df['date_dt'],\n",
    "        monthly_mean_df['model_max_of_mean_monthly_soil_temp'],\n",
    "        color=\"blue\"\n",
    "       )\n",
    "ax.plot(monthly_mean_df['date_dt'],\n",
    "        monthly_mean_df['model_min_of_mean_monthly_soil_temp'],\n",
    "        color=\"blue\"\n",
    "       )\n",
    "\n",
    "\n",
    "ax.fill_between(monthly_mean_df['date_dt'], \n",
    "                monthly_mean_df['model_min_of_mean_monthly_soil_temp'],\n",
    "                monthly_mean_df['model_max_of_mean_monthly_soil_temp'],\n",
    "                alpha=0.2,\n",
    "                facecolor=\"blue\",\n",
    "                label=f\"Mean modelled\\nmulti-year range\\n({n_last_years} years)\"\n",
    "               )\n",
    "\n",
    "# Plot layout\n",
    "ax.set_title(f\"{case_id}\", fontsize=16)\n",
    "ax.set_ylabel(\"Mean 10cm soil temperature [°C]\", fontsize=14)\n",
    "ax.set_xlabel(\"Month\", fontsize=14)\n",
    "ax.tick_params(axis='both', which='major', labelsize=12)\n",
    "ax.xaxis.set_major_formatter(mdates.DateFormatter('%b'))\n",
    "\n",
    "ax.legend(fontsize=14)\n",
    "ax.grid()"
   ]
  }
 ],
 "metadata": {
  "kernelspec": {
   "display_name": "Python 3 (ipykernel)",
   "language": "python",
   "name": "python3"
  },
  "language_info": {
   "codemirror_mode": {
    "name": "ipython",
    "version": 3
   },
   "file_extension": ".py",
   "mimetype": "text/x-python",
   "name": "python",
   "nbconvert_exporter": "python",
   "pygments_lexer": "ipython3",
   "version": "3.10.6"
  }
 },
 "nbformat": 4,
 "nbformat_minor": 5
}
