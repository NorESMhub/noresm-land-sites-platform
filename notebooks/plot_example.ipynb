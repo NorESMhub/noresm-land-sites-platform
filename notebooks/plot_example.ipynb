{
 "cells": [
  {
   "cell_type": "markdown",
   "id": "fe07846e-dade-40df-84df-0b74d5f2e32a",
   "metadata": {},
   "source": [
    "# Plot model output\n",
    "### Explore NetCDF output variables produced by a successful model run\n",
    "See https://github.com/NCAR/ctsm_python_gallery"
   ]
  },
  {
   "cell_type": "code",
   "execution_count": null,
   "id": "74aca49d-0c23-42d7-aa94-e9cc80c4d474",
   "metadata": {},
   "outputs": [],
   "source": [
    "import xarray as xr\n",
    "import matplotlib.pyplot as plt\n",
    "#import pandas as pd"
   ]
  },
  {
   "cell_type": "markdown",
   "id": "1934a305-6b66-400e-8a8f-0d9b17110a0d",
   "metadata": {},
   "source": [
    "##### Define path to where the NetCDF output is located, combine all files in the directory."
   ]
  },
  {
   "cell_type": "code",
   "execution_count": null,
   "id": "af5adf85-aa8f-40c7-affd-4d2e40af1b86",
   "metadata": {},
   "outputs": [],
   "source": [
    "output_path_str = \"../data/output/BOR3_2.0.0_output/lnd/hist/\""
   ]
  },
  {
   "cell_type": "code",
   "execution_count": null,
   "id": "0154460d-9f6c-4770-91e8-ce0232aa8737",
   "metadata": {},
   "outputs": [],
   "source": [
    "nc_data = xr.open_mfdataset(output_path_str + '/*.nc', combine='by_coords', decode_times=False)"
   ]
  },
  {
   "cell_type": "code",
   "execution_count": null,
   "id": "778e9381-3819-4eb7-b3e6-79ed8e73de54",
   "metadata": {},
   "outputs": [],
   "source": [
    "# Decode time format to prevent bug\n",
    "new = xr.decode_cf(nc_data)"
   ]
  },
  {
   "cell_type": "code",
   "execution_count": null,
   "id": "6d7cc05a-8ce6-4dd4-9883-8d0e99b474c1",
   "metadata": {},
   "outputs": [],
   "source": [
    "# Workaround (not doing it creates dependency errors within cftime module)\n",
    "nc_data[\"time\"] = new.indexes[\"time\"].to_datetimeindex()"
   ]
  },
  {
   "cell_type": "markdown",
   "id": "462e4c9d-52f9-40a5-9cbd-36c388192c95",
   "metadata": {},
   "source": [
    "##### Pick a variable name and create a simple plot."
   ]
  },
  {
   "cell_type": "code",
   "execution_count": null,
   "id": "43f737dd-8d77-4962-a54c-a111bf5d9dc5",
   "metadata": {},
   "outputs": [],
   "source": [
    "var_name = \"NPP\"\n",
    "var = nc_data[var_name]\n",
    "\n",
    "# Create plot\n",
    "fig, ax = plt.subplots(figsize=(10,6))\n",
    "ax.plot(nc_data['time'], var)\n",
    "ax.set_title(f\"Plotted variable name: {var_name}\")\n",
    "ax.set_xlabel(\"Date\")\n",
    "ax.set_ylabel(f\"{var_name} [{nc_data[var_name].units}]\")\n",
    "#var.plot()"
   ]
  }
 ],
 "metadata": {
  "kernelspec": {
   "display_name": "Python 3",
   "language": "python",
   "name": "python3"
  },
  "language_info": {
   "codemirror_mode": {
    "name": "ipython",
    "version": 3
   },
   "file_extension": ".py",
   "mimetype": "text/x-python",
   "name": "python",
   "nbconvert_exporter": "python",
   "pygments_lexer": "ipython3",
   "version": "3.6.8"
  }
 },
 "nbformat": 4,
 "nbformat_minor": 5
}
