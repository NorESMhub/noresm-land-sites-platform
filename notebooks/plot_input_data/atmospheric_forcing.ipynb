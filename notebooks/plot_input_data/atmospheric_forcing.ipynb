{
 "cells": [
  {
   "cell_type": "markdown",
   "id": "47f66400-2a83-4268-96f7-dc4c601a66b8",
   "metadata": {},
   "source": [
    "# Create figures for GSWP3 atmospheric forcing\n",
    "Plots to visualize some of the model inputs for atmospheric forcing from GSWP3, i.e., the dataset providing climatic observations driving model processes such as photosynthesis or evaporation.\n",
    "\n",
    "After specifying the path to a case's `inputdata/` folder below, run all cells in this notebook. The most convenient way is clicking the \"⏩\" button contained in the navigation bar at the top. It will create image files called `atmosphere_[variable_name].png` in a folder with the given case name in this working directory - i.e., either a new folder `/notebooks/plot_input_data/[case_id]-[case_name]/` will appear or the files will be added to it if it already exists. Click the folder icon in the navigation bar to the left if JupyterLab currently does not display the File Browser. Feel free to adapt the code in this notebook according to your needs."
   ]
  },
  {
   "cell_type": "code",
   "execution_count": null,
   "id": "398c6f2e-98a9-4e69-b734-76a24a53229a",
   "metadata": {},
   "outputs": [],
   "source": [
    "# Add the full case name in quotation marks here! E.g.: \"7733d6a59846cb18c051d598e968f695_alp1-test\"\n",
    "case_name = \"579673982ba6f4c1cf6cb10d7ab413a6_bor1-2000-2001\"\n",
    "\n",
    "# Enter the case ID (aka. short site code) in quotation marks here! E.g.: \"BOR1\".\n",
    "# ATTENTION! This is case sensitive, use the correct capitalization of letters!\n",
    "case_id = \"BOR1\"\n",
    "\n",
    "# Path to input data. Only change this line if you renamed the folder or moved it from the default location!\n",
    "from pathlib import Path\n",
    "inputdata_path = Path(f\"../../data/{case_name}/inputdata/\")"
   ]
  },
  {
   "cell_type": "markdown",
   "id": "165ab423-38db-4dc8-a607-a37356a5a67c",
   "metadata": {},
   "source": [
    "In the cell below, you can specify custom start and end dates for plotting a short time period with the original CLM5-GSWP3 temporal resolution, i.e. in 3 hourly timesteps. It shouldn't be longer than a year to maintain readability. Changing the time period can be useful if you have observational data that you roughly want to compare to the default inputs. The plots give you an idea which atmospheric data is needed for running the CLM in land-only mode - you could integrate your own observations for specialized experiments."
   ]
  },
  {
   "cell_type": "code",
   "execution_count": null,
   "id": "e137f599-2bb9-4a31-9afd-003297ab4435",
   "metadata": {},
   "outputs": [],
   "source": [
    "# WARNING! Must be between 1901-01-01 and 2014-12-31!\n",
    "subset_time_start = '2013-01-01'  # Format: YYYY-MM-DD\n",
    "subset_time_end = '2013-12-31'  # Format: YYYY-MM-DD"
   ]
  },
  {
   "cell_type": "markdown",
   "id": "ce832f55-76a5-4626-ab70-e6fc5f2f556d",
   "metadata": {},
   "source": [
    "<span style=\"color: red;\">Warning!</span> The following code is written for the NorESM-LSP default atmospheric forcing, i.e. the GSWP3 dataset. If you provide different forcing data or changed the default save locations you need to adjust the scripts accordingly.\n",
    "\n",
    "_No code cells below need to be altered unless you desire custom changes._\n",
    "\n",
    "---"
   ]
  },
  {
   "cell_type": "code",
   "execution_count": null,
   "id": "0adc3090-1974-4282-b48f-0eb07263bd14",
   "metadata": {},
   "outputs": [],
   "source": [
    "import matplotlib.pyplot as plt\n",
    "import xarray as xr\n",
    "import time"
   ]
  },
  {
   "cell_type": "code",
   "execution_count": null,
   "id": "11818e48-121b-4bde-b227-79d9d4b90b6d",
   "metadata": {},
   "outputs": [],
   "source": [
    "# Root path to surface data\n",
    "atm_forcing_data_path = Path(f\"{inputdata_path}/atm/datm7/GSWP3v1/{case_id}\")"
   ]
  },
  {
   "cell_type": "code",
   "execution_count": null,
   "id": "6a978ef5-5466-4243-be36-364ef287389a",
   "metadata": {},
   "outputs": [],
   "source": [
    "# open and combine all the monthly atmospheric NetCDF files present in the folder into an xarray dataset\n",
    "start_time = time.time()\n",
    "atm_forcing_data = xr.open_mfdataset(f'{atm_forcing_data_path}/*{case_id}*.nc', \n",
    "                                     concat_dim='time', \n",
    "                                     combine='nested', \n",
    "                                     decode_times=True)\n",
    "print(f\"--- Time it took to read the data: {round(float(time.time() - start_time), 3)} seconds ---\")"
   ]
  },
  {
   "cell_type": "code",
   "execution_count": null,
   "id": "52500dca-d3f0-4c21-afdb-47c934c026fd",
   "metadata": {},
   "outputs": [],
   "source": [
    "# Create case folder for output plots if necessary\n",
    "out_dir_path = Path().absolute() / case_name\n",
    "\n",
    "if not out_dir_path.is_dir():\n",
    "    out_dir_path.mkdir(parents=True, exist_ok=True)"
   ]
  },
  {
   "cell_type": "code",
   "execution_count": null,
   "id": "707f0ce2-df90-4838-ae9a-ed3ed9d267c0",
   "metadata": {},
   "outputs": [],
   "source": [
    "# Set general plotting options\n",
    "DPI = 150\n",
    "TICK_LABEL_FONT_SIZE = 12\n",
    "AX_LABEL_FONT_SIZE = 14\n",
    "TITLE_FONT_SIZE = 16"
   ]
  },
  {
   "cell_type": "markdown",
   "id": "afb189d9-a433-450c-936d-d1fa2620ba99",
   "metadata": {},
   "source": [
    "## Full dataset period"
   ]
  },
  {
   "cell_type": "code",
   "execution_count": null,
   "id": "aa807be1-3a07-45c3-b4ef-551c4db4ad62",
   "metadata": {
    "tags": []
   },
   "outputs": [],
   "source": [
    "# Print dataset info\n",
    "atm_forcing_data"
   ]
  },
  {
   "cell_type": "markdown",
   "id": "dfccbd9b-648d-4533-893f-a4057e7d3381",
   "metadata": {},
   "source": [
    "#### Annual temperature, precipitation, and total incident solar radiation\n",
    "The code cells below illustrate how the `xarray` and `matplotlib` libraries can be used for input data wrangling and plotting."
   ]
  },
  {
   "cell_type": "code",
   "execution_count": null,
   "id": "0312e235-0793-4abc-8285-f0b85beffa13",
   "metadata": {},
   "outputs": [],
   "source": [
    "# Temperature, resample to annual mean, convert from K to °C\n",
    "temp_mean_year = atm_forcing_data[\"TBOT\"].resample(time='1Y').mean() - 273.15\n",
    "\n",
    "# Precipitation, convert from [mm H2O / sec] to total (3h=10800s model time step), resample to annual sum\n",
    "precip_total_year = (atm_forcing_data[\"PRECTmms\"] * 10800).resample(time='1Y').sum()\n",
    "\n",
    "# Radiation, resample to annual mean\n",
    "radiation_mean_year = atm_forcing_data[\"FSDS\"].resample(time='1Y').mean()"
   ]
  },
  {
   "cell_type": "code",
   "execution_count": null,
   "id": "977305d3-f9a5-4bea-b18e-6007d6cc2bee",
   "metadata": {
    "tags": []
   },
   "outputs": [],
   "source": [
    "# Instantiate plot, one subplot for each variable\n",
    "fig, (ax1, ax2, ax3) = plt.subplots(nrows=3, ncols=1,\n",
    "                                    figsize=(8, 8),\n",
    "                                    dpi=DPI)\n",
    "\n",
    "ax1.plot(range(len(temp_mean_year.time)),\n",
    "         temp_mean_year.values.flatten(),\n",
    "         color=\"#C0392B\",\n",
    "         linewidth=2,\n",
    "         label=\"Annual mean temperature [°C]\"\n",
    "       )\n",
    "\n",
    "ax2.bar(x=range(len(precip_total_year.time)),\n",
    "        height=precip_total_year.values.flatten(),\n",
    "        color=\"#0047AB\",\n",
    "        label=\"Total precipitation\"\n",
    "       )\n",
    "\n",
    "ax3.plot(radiation_mean_year.time,\n",
    "         radiation_mean_year.values.flatten(),\n",
    "         color=\"#28282B\",\n",
    "         linewidth=2,\n",
    "         label=\"Annual mean incident solar radiation [W/m²]\"\n",
    "        )\n",
    "\n",
    "# Disable x axes for subplots 1 and 2\n",
    "ax1.get_xaxis().set_visible(False)\n",
    "ax2.get_xaxis().set_visible(False)\n",
    "\n",
    "# Other plot layout settings\n",
    "ax1.set_title(f\"{case_id}: GSWP3 forcing (1901-1914)\", size=TITLE_FONT_SIZE)\n",
    "\n",
    "ax1.set_ylabel(\"Annual mean 2m air\\ntemperature [°C]\", fontsize=AX_LABEL_FONT_SIZE)\n",
    "ax2.set_ylabel(\"Annual total\\nprecipitation [mm]\", fontsize=AX_LABEL_FONT_SIZE)\n",
    "ax3.set_ylabel(\"Annual mean incident\\nsolar radiation [W/m²]\", fontsize=AX_LABEL_FONT_SIZE)\n",
    "ax3.set_xlabel(\"Year\", fontsize=AX_LABEL_FONT_SIZE)\n",
    "\n",
    "ax1.tick_params(axis='y', which='major', labelsize=TICK_LABEL_FONT_SIZE)\n",
    "ax2.tick_params(axis='y', which='major', labelsize=TICK_LABEL_FONT_SIZE)\n",
    "ax3.tick_params(axis='both', which='major', labelsize=TICK_LABEL_FONT_SIZE)\n",
    "\n",
    "# Save figure\n",
    "fig.tight_layout()\n",
    "fig.savefig(fname=f\"{out_dir_path}/atmosphere_yearly_temp_precip_rad.png\", format='png')"
   ]
  },
  {
   "cell_type": "markdown",
   "id": "2f89c513-a9aa-45f2-853d-a49428eb9e84",
   "metadata": {},
   "source": [
    "---\n",
    "## Short period"
   ]
  },
  {
   "cell_type": "code",
   "execution_count": null,
   "id": "ff194ee5-9add-401d-9568-eac2d4c7ce8c",
   "metadata": {
    "tags": []
   },
   "outputs": [],
   "source": [
    "atm_forcing_data"
   ]
  },
  {
   "cell_type": "markdown",
   "id": "6e5ed6b2-83fd-4c20-a064-b6491c60e95d",
   "metadata": {},
   "source": [
    "### Temperature, precipitation, total radiation, longwave radiation, humidity, wind, atm. pressure "
   ]
  },
  {
   "cell_type": "code",
   "execution_count": null,
   "id": "8a396cca-7a08-43ab-a507-02b05c999a3b",
   "metadata": {},
   "outputs": [],
   "source": [
    "variable_list = []\n",
    "atm_forcing_subset = atm_forcing_data.sel(time=slice(subset_time_start, subset_time_end))\n",
    "\n",
    "# Temperature, convert from K to °C\n",
    "temp_subset = atm_forcing_subset[\"TBOT\"] - 273.15\n",
    "variable_list.append(temp_subset)\n",
    "\n",
    "# Precipitation, convert from [mm H2O / sec] to total [mm] (data temp. resolution: 3h=10800s), calculate cumulative sum\n",
    "precip_subset = (atm_forcing_subset[\"PRECTmms\"] * 10800).cumsum()\n",
    "variable_list.append(precip_subset)\n",
    "\n",
    "# Total incident radiation\n",
    "radation_total_subset = atm_forcing_subset[\"FSDS\"]\n",
    "variable_list.append(radation_total_subset)\n",
    "\n",
    "# Incident longwave radiation\n",
    "radation_longwave_subset = atm_forcing_subset[\"FLDS\"]\n",
    "variable_list.append(radation_longwave_subset)\n",
    "\n",
    "# Specific humidity\n",
    "humidity_subset = atm_forcing_subset[\"QBOT\"]\n",
    "variable_list.append(humidity_subset)\n",
    "\n",
    "# Wind speed\n",
    "wind_subset = atm_forcing_subset[\"WIND\"]\n",
    "variable_list.append(wind_subset)\n",
    "\n",
    "# Atm. pressure, convert to hPa\n",
    "pressure_subset = atm_forcing_subset[\"PSRF\"] * 0.01\n",
    "variable_list.append(pressure_subset)"
   ]
  },
  {
   "cell_type": "code",
   "execution_count": null,
   "id": "2ac3bf0d-b201-4fad-8694-ba81fcd4ea9b",
   "metadata": {},
   "outputs": [],
   "source": [
    "# Label dictionary\n",
    "subset_plot_dict = {\n",
    "    \"TBOT\": {\n",
    "        \"y_axis\": \"2m air temperature\",\n",
    "        \"unit\": \"[°C]\",\n",
    "        \"color\": \"#C0392B\",\n",
    "    },\n",
    "    \"PRECTmms\": {\n",
    "        \"y_axis\": \"Cumulative precipitation\",\n",
    "        \"unit\": \"[mm]\",\n",
    "        \"color\": \"#0047AB\",\n",
    "    },\n",
    "    \"FSDS\": {\n",
    "        \"y_axis\": \"Total incident solar radiation\",\n",
    "        \"unit\": \"[W/m²]\",\n",
    "        \"color\": \"#28282B\",\n",
    "    },\n",
    "    \"FLDS\": {\n",
    "        \"y_axis\": \"Incident longwave radiation\",\n",
    "        \"unit\": \"[W/m²]\",\n",
    "        \"color\": \"#FE5654\",\n",
    "    },\n",
    "    \"QBOT\": {\n",
    "        \"y_axis\": \"2m specific humidity\",\n",
    "        \"unit\": \"[kg/kg]\",\n",
    "        \"color\": \"#8EA9F6\",\n",
    "    },\n",
    "    \"WIND\": {\n",
    "        \"y_axis\": \"2m wind speed\",\n",
    "        \"unit\": \"[m/s]\",\n",
    "        \"color\": \"#F00BF3\",\n",
    "    },\n",
    "    \"PSRF\": {\n",
    "        \"y_axis\": \"Surface pressure\",\n",
    "        \"unit\": \"[hPa]\",\n",
    "        \"color\": \"#6B6B6B\",\n",
    "    },\n",
    "}"
   ]
  },
  {
   "cell_type": "code",
   "execution_count": null,
   "id": "a8c1210d-bfa7-4da6-bc20-0cc25461b982",
   "metadata": {},
   "outputs": [],
   "source": [
    "# Create plots for each variable\n",
    "for variable in variable_list:\n",
    "    \n",
    "    # Get plot settings for current variable\n",
    "    current_var_dict = subset_plot_dict.get(variable.name)\n",
    "    \n",
    "    # Instantiate plot\n",
    "    fig, ax = plt.subplots(figsize=(6, 6), dpi=DPI)\n",
    "\n",
    "    ax.plot(variable.time,\n",
    "            variable.values.flatten(),\n",
    "            color=current_var_dict.get('color'),\n",
    "            linewidth=2,\n",
    "           )\n",
    "    \n",
    "    # Other plot layout settings\n",
    "    ax.set_title(f\"{case_id}: {variable.name} - GSWP3 forcing\\n{subset_time_start} -- {subset_time_end}\", size=TITLE_FONT_SIZE)\n",
    "\n",
    "    ax.set_ylabel(current_var_dict.get('y_axis') + \" \" + current_var_dict.get('unit'),\n",
    "                  fontsize=AX_LABEL_FONT_SIZE)\n",
    "    ax.set_xlabel(\"Date\", fontsize=AX_LABEL_FONT_SIZE)\n",
    "\n",
    "    ax.tick_params(axis='both', which='major', labelsize=TICK_LABEL_FONT_SIZE)\n",
    "\n",
    "    # Save figure\n",
    "    fig.tight_layout()\n",
    "    fig.savefig(fname=f\"{out_dir_path}/atmosphere_{variable.name}_{subset_time_start}_to_{subset_time_end}.png\", format='png')"
   ]
  }
 ],
 "metadata": {
  "kernelspec": {
   "display_name": "Python 3 (ipykernel)",
   "language": "python",
   "name": "python3"
  },
  "language_info": {
   "codemirror_mode": {
    "name": "ipython",
    "version": 3
   },
   "file_extension": ".py",
   "mimetype": "text/x-python",
   "name": "python",
   "nbconvert_exporter": "python",
   "pygments_lexer": "ipython3",
   "version": "3.10.6"
  }
 },
 "nbformat": 4,
 "nbformat_minor": 5
}
