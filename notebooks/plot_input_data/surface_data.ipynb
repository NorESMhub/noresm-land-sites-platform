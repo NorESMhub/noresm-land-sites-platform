{
 "cells": [
  {
   "cell_type": "markdown",
   "id": "d766c564-7df8-48e2-965a-0a5e20d8f612",
   "metadata": {},
   "source": [
    "# Create figures for CLM land surface inputs\n",
    "Plots to visualize some of the many model inputs describing land surface properties.\n",
    "\n",
    "After specifying the path to a case's `inputdata/` folder below, run all cells in this notebook. The most convenient way is clicking the \"⏩\" button contained in the navigation bar at the top. It will create image files called `surface_[variable_name].png` in a folder with the given case name in this working directory - i.e., either a new folder `/notebooks/plot_input_data/[case_id]-[case_name]/` will appear or the files will be added to it if it already exists. Click the folder icon in the navigation bar to the left if JupyterLab currently does not display the File Browser. Feel free to adapt the code in this notebook according to your needs."
   ]
  },
  {
   "cell_type": "code",
   "execution_count": null,
   "id": "b238457f-8ac0-4e35-a377-2cf45cb94910",
   "metadata": {},
   "outputs": [],
   "source": [
    "# Add the full case name in quotation marks here! E.g.: \"7733d6a59846cb18c051d598e968f695_alp1-test\"\n",
    "case_name = \"579673982ba6f4c1cf6cb10d7ab413a6_bor1-2000-2001\"\n",
    "\n",
    "# Enter the case ID (aka. short site code) in quotation marks here! E.g.: \"BOR1\".\n",
    "# ATTENTION! This is case sensitive, use the correct capitalization of letters!\n",
    "case_id = \"BOR1\"\n",
    "\n",
    "# Path to input data. Only change this line if you renamed the folder or moved it from the default location!\n",
    "from pathlib import Path\n",
    "inputdata_path = Path(f\"../../data/{case_name}/inputdata/\")"
   ]
  },
  {
   "cell_type": "markdown",
   "id": "c1e6ab1a-2295-4f83-a417-730fa2741dc9",
   "metadata": {},
   "source": [
    "<span style=\"color: red;\">Warning!</span> The following plots for soil properties assume the CLM5.0 default - and NorESM-LSP default - number of soil layers and their respective depths. If you customized this setting - i.e. altered the namelist values for `soil_layerstruct_userdefined`, `soil_layerstruct_userdefined_nlevsoi`, etc. - you need to adjust `default_grnd_soil_levels.json` accordingly.\n",
    "\n",
    "_No code cells below need to be altered unless you desire custom changes._\n",
    "\n",
    "---"
   ]
  },
  {
   "cell_type": "code",
   "execution_count": null,
   "id": "4aafa5c7-c09d-49fe-92b6-ede2cfb2e32f",
   "metadata": {},
   "outputs": [],
   "source": [
    "import matplotlib.pyplot as plt\n",
    "import xarray as xr"
   ]
  },
  {
   "cell_type": "code",
   "execution_count": null,
   "id": "78b486f7-a065-4227-99ae-767a71b23eb2",
   "metadata": {},
   "outputs": [],
   "source": [
    "# Root path to surface data\n",
    "surface_data_path = Path(f\"{inputdata_path}/lnd/clm2/surfdata_map/{case_id}\")"
   ]
  },
  {
   "cell_type": "code",
   "execution_count": null,
   "id": "614b6eda-ca63-4d72-b500-1ecdac9394b0",
   "metadata": {},
   "outputs": [],
   "source": [
    "# open and combine all the NetCDF files present in the folder into a dataset\n",
    "surface_map_data = xr.open_mfdataset(f'{surface_data_path}/surfdata*.nc',\n",
    "                                     concat_dim='time',\n",
    "                                     combine='nested',\n",
    "                                     decode_times=True)"
   ]
  },
  {
   "cell_type": "code",
   "execution_count": null,
   "id": "ae5bbde5-1d7a-4dbe-a0e5-9fef63c64925",
   "metadata": {},
   "outputs": [],
   "source": [
    "# Create case folder for output plots if necessary\n",
    "out_dir_path = Path().absolute() / case_name\n",
    "\n",
    "if not out_dir_path.is_dir():\n",
    "    out_dir_path.mkdir(parents=True, exist_ok=True)"
   ]
  },
  {
   "cell_type": "code",
   "execution_count": null,
   "id": "a5907af6-dd65-47b3-9f4f-48e9597d30c1",
   "metadata": {},
   "outputs": [],
   "source": [
    "# Set general plotting options\n",
    "DPI = 150\n",
    "TICK_LABEL_FONT_SIZE = 12\n",
    "AX_LABEL_FONT_SIZE = 14\n",
    "TITLE_FONT_SIZE = 16"
   ]
  },
  {
   "cell_type": "markdown",
   "id": "0515022f-67c0-43bb-abff-44eb72505dd1",
   "metadata": {},
   "source": [
    "## Selected soil properties\n",
    "Plot the volumetric fractions of sand, clay, and soil organic matter together with the observed soil depth used in the hydrologic and biogeochemical calculations as obtained from the global data sets described in https://escomp.github.io/ctsm-docs/versions/release-clm5.0/html/tech_note/Ecosystem/CLM50_Tech_Note_Ecosystem.html#surface-characterization-vertical-discretization-and-model-input-requirements."
   ]
  },
  {
   "cell_type": "code",
   "execution_count": null,
   "id": "1f882f2b-cfa1-49a6-90cd-da7d568dab79",
   "metadata": {
    "tags": []
   },
   "outputs": [],
   "source": [
    "surface_map_data"
   ]
  },
  {
   "cell_type": "code",
   "execution_count": null,
   "id": "9eb591ed-6d6f-4eb9-977c-b1d458662265",
   "metadata": {},
   "outputs": [],
   "source": [
    "import json\n",
    "with open(Path(\"./dicts/default_grnd_soil_levels.json\"), 'r', encoding='utf-8') as grnd_soil_json:\n",
    "    grnd_soil_dict = json.load(grnd_soil_json)"
   ]
  },
  {
   "cell_type": "code",
   "execution_count": null,
   "id": "009e250e-366d-4e21-bcef-fff108efff72",
   "metadata": {},
   "outputs": [],
   "source": [
    "# Instantiate plot\n",
    "fig, ax = plt.subplots(figsize=(8, 6), dpi=DPI)\n",
    "\n",
    "# Save plot handles from multi-line plot for easier legend manipulation\n",
    "plot_handle_list = []\n",
    "\n",
    "soil_layer_idx = [idx for idx in grnd_soil_dict[\"surfdata_maps\"][\"mksrf_soitex.10level.c010119.nc\"][\"soil_layer_depth\"].keys()]\n",
    "soil_layer_depth = [idx for idx in grnd_soil_dict[\"surfdata_maps\"][\"mksrf_soitex.10level.c010119.nc\"][\"soil_layer_depth\"].values()]\n",
    "\n",
    "# Add soil layers as dotted lines\n",
    "for soil_layer in soil_layer_depth:\n",
    "    handle = ax.axhline(soil_layer,\n",
    "                        color=\"#69696980\",\n",
    "                        linestyle=\"dotted\",\n",
    "                        label=\"Default soil\\nlayer boundary\"\n",
    "                       )\n",
    "plot_handle_list.append(handle)\n",
    "\n",
    "# Add observed soil depth\n",
    "handle = ax.axhline(surface_map_data[\"zbedrock\"].values[0],\n",
    "                    color='r',\n",
    "                    label=\"Observed soil depth\"\n",
    "                   )\n",
    "plot_handle_list.append(handle)\n",
    "\n",
    "# Plot fractions of sand and clay\n",
    "properties = (\"PCT_SAND\", \"PCT_CLAY\")\n",
    "\n",
    "for prop in properties:\n",
    "    \n",
    "    cur_plot_handles, = ax.plot(surface_map_data[prop].values[0].flatten(),\n",
    "                                soil_layer_depth,\n",
    "                                label=surface_map_data[prop].long_name,\n",
    "                                linestyle=\"--\",\n",
    "                                linewidth=1.5\n",
    "                               )\n",
    "    \n",
    "    plot_handle_list.append(cur_plot_handles)\n",
    "\n",
    "# Set overall plot layout\n",
    "ax.invert_yaxis()\n",
    "ax.set_title(f\"{case_id}: selected soil properties\", size=TITLE_FONT_SIZE)\n",
    "ax.set_xlabel(\"%\", fontsize=AX_LABEL_FONT_SIZE)\n",
    "ax.set_ylabel(\"Soil depth [m]\", fontsize=AX_LABEL_FONT_SIZE)\n",
    "ax.tick_params(axis='both', which='major', labelsize=TICK_LABEL_FONT_SIZE)\n",
    "\n",
    "ax.legend(\n",
    "    handles=plot_handle_list,\n",
    "    bbox_to_anchor=(1.05, 1),  # Places the legend outside to the plotting area\n",
    "    loc='upper left',\n",
    "    fontsize=TICK_LABEL_FONT_SIZE\n",
    ")\n",
    "\n",
    "fig.tight_layout()\n",
    "fig.savefig(fname=f\"{out_dir_path}/surface_sand_clay_pct.png\", format='png')"
   ]
  },
  {
   "cell_type": "code",
   "execution_count": null,
   "id": "00892bbd-2dd6-4950-82ce-0453e78e7f5c",
   "metadata": {},
   "outputs": [],
   "source": [
    "# Instantiate plot\n",
    "fig, ax = plt.subplots(figsize=(8, 6), dpi=DPI)\n",
    "\n",
    "# Save plot handles from multi-line plot for easier legend manipulation\n",
    "plot_handle_list = []\n",
    "\n",
    "soil_layer_idx = [idx for idx in grnd_soil_dict[\"surfdata_maps\"][\"mksrf_soitex.10level.c010119.nc\"][\"soil_layer_depth\"].keys()]\n",
    "soil_layer_depth = [idx for idx in grnd_soil_dict[\"surfdata_maps\"][\"mksrf_soitex.10level.c010119.nc\"][\"soil_layer_depth\"].values()]\n",
    "\n",
    "# Add soil layers as dotted lines\n",
    "for soil_layer in soil_layer_depth:\n",
    "    handle = ax.axhline(soil_layer,\n",
    "                        color=\"#69696980\",\n",
    "                        linestyle=\"dotted\",\n",
    "                        label=\"Default soil\\nlayer boundary\"\n",
    "                       )\n",
    "plot_handle_list.append(handle)\n",
    "\n",
    "# Add observed soil depth\n",
    "handle = ax.axhline(surface_map_data[\"zbedrock\"].values[0],\n",
    "                     color='r',\n",
    "                     label=\"Observed soil depth [m]\"\n",
    "                    )\n",
    "plot_handle_list.append(handle)\n",
    "\n",
    "# Add soil organic matter content\n",
    "handle, = ax.plot(surface_map_data[\"ORGANIC\"].values[0].flatten(),\n",
    "                  soil_layer_depth,\n",
    "                  label=\"organic matter density\",\n",
    "                  color=\"brown\",\n",
    "                  linestyle=\"--\",\n",
    "                  linewidth=1.5\n",
    "                  )\n",
    "plot_handle_list.append(handle)\n",
    "\n",
    "# Set overall plot layout\n",
    "ax.invert_yaxis()\n",
    "ax.set_title(f\"{case_id}: selected soil properties\", size=TITLE_FONT_SIZE)\n",
    "ax.set_xlabel(f\"{surface_map_data['ORGANIC'].long_name}\\n{[surface_map_data['ORGANIC'].units]}\", fontsize=AX_LABEL_FONT_SIZE)\n",
    "ax.set_ylabel(\"Soil depth\", fontsize=AX_LABEL_FONT_SIZE)\n",
    "ax.tick_params(axis='both', which='major', labelsize=TICK_LABEL_FONT_SIZE)\n",
    "\n",
    "ax.legend(\n",
    "    handles=plot_handle_list,\n",
    "    bbox_to_anchor=(1.05, 1),  # Places the legend outside to the plotting area\n",
    "    loc='upper left',\n",
    "    fontsize=TICK_LABEL_FONT_SIZE\n",
    ")\n",
    "\n",
    "# Save figure\n",
    "fig.tight_layout()\n",
    "fig.savefig(fname=f\"{out_dir_path}/surface_soil_organic_matter.png\", format='png')"
   ]
  },
  {
   "cell_type": "markdown",
   "id": "4adfc62c-31b1-4509-b4cf-662d50f6e989",
   "metadata": {
    "tags": []
   },
   "source": [
    "## Land cover fractions\n",
    "From the [CLM 5 documentation](https://escomp.github.io/ctsm-docs/versions/release-clm5.0/html/tech_note/Ecosystem/CLM50_Tech_Note_Ecosystem.html#surface-characterization-vertical-discretization-and-model-input-requirements): \n",
    "\"The first subgrid level, the land unit, is intended to capture the broadest spatial patterns of subgrid heterogeneity. The current land units are glacier, lake, urban, vegetated, and crop (when the crop model option is turned on) \\[and wetlands\\]. The land unit level can be used to further delineate these patterns. For example, the urban land unit is divided into density classes representing the tall building district, high density, and medium density urban areas.\""
   ]
  },
  {
   "cell_type": "code",
   "execution_count": null,
   "id": "cfdf9b8b-81a2-4751-9a86-592cf1694215",
   "metadata": {},
   "outputs": [],
   "source": [
    "# Example data\n",
    "lc_type = ('Glacier', 'Lake', 'Wetland', 'Vegetated', 'Crop', 'Urban (total)')\n",
    "lc_var_names = ('PCT_GLACIER', 'PCT_LAKE', 'PCT_WETLAND', 'PCT_NATVEG', 'PCT_CROP')\n",
    "\n",
    "values = [float(surface_map_data[x].values[0]) for x in lc_var_names]\n",
    "values.append(float(sum(surface_map_data['PCT_URBAN'].values[0])))\n",
    "\n",
    "# Instantiate plot\n",
    "fig, ax = plt.subplots(figsize=(8, 6), dpi=DPI)\n",
    "\n",
    "ax.barh(y=range(len(lc_type)),\n",
    "        width=values,\n",
    "        align='center'\n",
    "       )\n",
    "\n",
    "# General plot options\n",
    "ax.set_title(f\"{case_id}: selected land cover\\nand topography information\", size=TITLE_FONT_SIZE)\n",
    "ax.set_yticks(range(len(lc_type)), labels=lc_type)\n",
    "ax.tick_params(axis='both', which='major', labelsize=TICK_LABEL_FONT_SIZE)\n",
    "ax.set_xlabel('Land unit cover [%]', fontsize=AX_LABEL_FONT_SIZE)\n",
    "\n",
    "# Annotation box (in plot legend) for topography information\n",
    "plot_handle_list = []\n",
    "plot_handle_list.append(\n",
    "    ax.axhline(0, label=f\"{surface_map_data['SLOPE'].long_name}:\\n{round(float(surface_map_data['SLOPE'].values[0]), 3)}\",\n",
    "               linewidth=0)\n",
    ")\n",
    "plot_handle_list.append(\n",
    "    ax.axhline(0, label=f\"{surface_map_data['STD_ELEV'].long_name}:\\n{round(float(surface_map_data['STD_ELEV'].values[0]), 3)} [m]\",\n",
    "               linewidth=0)\n",
    ")\n",
    "\n",
    "plt.rcParams['legend.title_fontsize'] = AX_LABEL_FONT_SIZE\n",
    "ax.legend(\n",
    "    title='Grid cell topography',\n",
    "    handles=plot_handle_list,\n",
    "    bbox_to_anchor=(1.05, 1),  # Places the legend outside to the plotting area\n",
    "    loc='upper left',\n",
    "    fontsize=TICK_LABEL_FONT_SIZE\n",
    ")\n",
    "\n",
    "# Save figure\n",
    "fig.tight_layout()\n",
    "fig.savefig(fname=f\"{out_dir_path}/surface_land_cover_and_topography.png\", format='png')"
   ]
  }
 ],
 "metadata": {
  "kernelspec": {
   "display_name": "Python 3 (ipykernel)",
   "language": "python",
   "name": "python3"
  },
  "language_info": {
   "codemirror_mode": {
    "name": "ipython",
    "version": 3
   },
   "file_extension": ".py",
   "mimetype": "text/x-python",
   "name": "python",
   "nbconvert_exporter": "python",
   "pygments_lexer": "ipython3",
   "version": "3.10.6"
  }
 },
 "nbformat": 4,
 "nbformat_minor": 5
}
