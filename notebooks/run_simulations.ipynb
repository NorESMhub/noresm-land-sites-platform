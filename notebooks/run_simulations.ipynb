{
 "cells": [
  {
   "cell_type": "markdown",
   "id": "a1c2ee3f",
   "metadata": {},
   "source": [
    "# Run your simulations\n",
    "\n",
    "Link back to the [user guide](https://noresmhub.github.io/NorESM_LandSites_Platform/user_guide)\n",
    "\n",
    "In this notebook, you can hit the play button next to code cells to run the code (or use the Run button etc at the top).\n",
    "\n",
    "### Make your simulation case(s):\n",
    "\n",
    "Execute the make_cases.py script with the python command to make the simulation cases you specified in your settings file"
   ]
  },
  {
   "cell_type": "code",
   "execution_count": 9,
   "id": "f99cb7da",
   "metadata": {},
   "outputs": [
    {
     "name": "stdout",
     "output_type": "stream",
     "text": [
      "No settings file name or path provided, using '~/landsites_tools/settings.txt'...\n",
      "\n",
      "Checking input data...\n",
      "\n",
      "Input data folder /home/user/NorESM_LandSites_Platform/data/input/clm/ALP1_2.0.0_input already in place. Make sure that it contains all the necessary forcing files!\n",
      "Input data folder /home/user/NorESM_LandSites_Platform/data/input/clm/ALP2_2.0.0_input already in place. Make sure that it contains all the necessary forcing files!\n",
      "\n",
      "Input data is ready.\n",
      "\n",
      "\n",
      "Start creating cases and changing CLM parameters...\n",
      "\n",
      "Case 'ALP1_2.0.0' already exists in the specified cases directory.\n",
      "setting case file to env_run.xml\n",
      "setting case file to env_run.xml\n",
      "setting case file to env_run.xml\n",
      "setting case file to env_run.xml\n",
      "setting case file to env_run.xml\n",
      "setting case file to env_run.xml\n",
      "Parameters successfully changed in '/home/user/NorESM_LandSites_Platform/data/cases/ALP1_2.0.0'.\n",
      "Updating output path in /home/user/NorESM_LandSites_Platform/data/cases/ALP1_2.0.0...\n",
      "setting case file to env_run.xml\n",
      "setting case file to env_run.xml\n",
      "Updating output path in /home/user/NorESM_LandSites_Platform/data/cases/ALP1_2.0.0...\n",
      "setting case file to env_build.xml\n",
      "setting case file to env_run.xml\n",
      "Case 'ALP2_2.0.0' already exists in the specified cases directory.\n",
      "setting case file to env_run.xml\n",
      "setting case file to env_run.xml\n",
      "setting case file to env_run.xml\n",
      "setting case file to env_run.xml\n",
      "setting case file to env_run.xml\n",
      "setting case file to env_run.xml\n",
      "Parameters successfully changed in '/home/user/NorESM_LandSites_Platform/data/cases/ALP2_2.0.0'.\n",
      "Updating output path in /home/user/NorESM_LandSites_Platform/data/cases/ALP2_2.0.0...\n",
      "setting case file to env_run.xml\n",
      "setting case file to env_run.xml\n",
      "Updating output path in /home/user/NorESM_LandSites_Platform/data/cases/ALP2_2.0.0...\n",
      "setting case file to env_build.xml\n",
      "setting case file to env_run.xml\n",
      "\n",
      "Done creating cases and changing parameters.\n",
      "\n",
      "Start building cases...\n",
      "\n",
      "Setting Environment NETCDF_PATH=/usr/local\n",
      "Setting Environment PNETCDF_PATH=/usr/local\n",
      "Setting Environment FPATH=/usr/lib64\n",
      "Setting Environment CPATH=/usr/lib64\n",
      "Setting resource.RLIMIT_STACK to -1 from (8388608, -1)\n",
      "Machine/Decomp/Pes configuration has already been done ...skipping\n",
      "If an old case build already exists, might want to run 'case.build --clean' before building\n",
      "You can now run './preview_run' to get more info on how your case will be run\n",
      "Building case in directory /home/user/NorESM_LandSites_Platform/data/cases/ALP1_2.0.0\n",
      "sharedlib_only is False\n",
      "model_only is False\n",
      "Setting Environment NETCDF_PATH=/usr/local\n",
      "Setting Environment PNETCDF_PATH=/usr/local\n",
      "Setting Environment FPATH=/usr/lib64\n",
      "Setting Environment CPATH=/usr/lib64\n",
      "Setting resource.RLIMIT_STACK to -1 from (8388608, -1)\n",
      "Generating component namelists as part of build\n",
      "Creating component namelists\n",
      "  2022-02-18 10:19:13 atm \n",
      "   Calling /home/user/NorESM_LandSites_Platform/noresm2/cime/src/components/data_comps_mct/datm/cime_config/buildnml\n",
      "  2022-02-18 10:19:14 lnd \n",
      "   Calling /home/user/NorESM_LandSites_Platform/noresm2/components/clm//cime_config/buildnml\n",
      "  2022-02-18 10:19:14 ice \n",
      "   Calling /home/user/NorESM_LandSites_Platform/noresm2/cime/src/components/stub_comps_mct/sice/cime_config/buildnml\n",
      "  2022-02-18 10:19:14 ocn \n",
      "   Calling /home/user/NorESM_LandSites_Platform/noresm2/cime/src/components/stub_comps_mct/socn/cime_config/buildnml\n",
      "  2022-02-18 10:19:14 rof \n",
      "   Calling /home/user/NorESM_LandSites_Platform/noresm2/components/mosart//cime_config/buildnml\n",
      "  2022-02-18 10:19:14 glc \n",
      "   Calling /home/user/NorESM_LandSites_Platform/noresm2/cime/src/components/stub_comps_mct/sglc/cime_config/buildnml\n",
      "  2022-02-18 10:19:14 wav \n",
      "   Calling /home/user/NorESM_LandSites_Platform/noresm2/cime/src/components/stub_comps_mct/swav/cime_config/buildnml\n",
      "  2022-02-18 10:19:14 iac \n",
      "   Running /home/user/NorESM_LandSites_Platform/noresm2/cime/src/components/stub_comps_mct/siac/cime_config/buildnml \n",
      "  2022-02-18 10:19:14 esp \n",
      "   Calling /home/user/NorESM_LandSites_Platform/noresm2/cime/src/components/stub_comps_mct/sesp/cime_config/buildnml\n",
      "  2022-02-18 10:19:14 cpl \n",
      "   Calling /home/user/NorESM_LandSites_Platform/noresm2/cime/src/drivers/mct/cime_config/buildnml\n",
      "ERROR: Undefined env var 'USER'\n",
      "Building /home/user/NorESM_LandSites_Platform/data/cases/ALP1_2.0.0... Traceback (most recent call last):\n",
      "  File \"../landsites_tools/simulation/make_cases.py\", line 323, in <module>\n",
      "    subprocess.run(bash_command, shell=True, check=True)\n",
      "  File \"/usr/lib64/python3.6/subprocess.py\", line 438, in run\n",
      "    output=stdout, stderr=stderr)\n",
      "subprocess.CalledProcessError: Command 'cd /home/user/NorESM_LandSites_Platform/data/cases/ALP1_2.0.0 ; ./case.setup ; ./case.build' returned non-zero exit status 1.\n"
     ]
    }
   ],
   "source": [
    "!python ../landsites_tools/simulation/make_cases.py"
   ]
  },
  {
   "cell_type": "markdown",
   "id": "391d1f18",
   "metadata": {},
   "source": [
    "\n",
    "The following steps will be executed with the make_cases.py script:\n",
    "\n",
    "1. Download/check the input data\n",
    "    - Input data for the available land sites will be automatically downloaded from `https://ns2806k.webs.sigma2.no/EMERALD/EMERALD_platform/inputdata_fates_platform/`\n",
    "    - You can specify the corresponding target root directory in the settings file\n",
    "    - You can provide a custom suffix (name ending that will be added to all input dirs) via the `-sfxi [_my_suffix]` flag, default is `_input`.\n",
    "2. Create case directories\n",
    "    - You can specify the corresponding root directory in the settings file\n",
    "    - You can provide a custom suffix (name ending that will be added to all case dirs) via the `-sfxc [_my_suffix]` flag, default is none.\n",
    "3. Change CLM and FATES parameters\n",
    "    - Changes all parameter values for CLM and FATES that are provided in the settings file\n",
    "4. Create custom output directories\n",
    "    - You can specify the corresponding root directory in the settings file\n",
    "    - You can provide a custom suffix (name ending that will be added to all output dirs) via the `-sfxo [_my_suffix]` flag, default is `_output`.\n",
    "5. \"Set up\" and \"build\" cases\n",
    "    - Executes `./case.setup` and `./case.build`\n",
    "6. Automatically add specified case, input, and output directories to the settings.txt file\n"
   ]
  },
  {
   "cell_type": "markdown",
   "id": "80029ae0",
   "metadata": {},
   "source": [
    "### Start running your case(s):"
   ]
  },
  {
   "cell_type": "markdown",
   "id": "12420920",
   "metadata": {},
   "source": [
    "If your settings file is named something other than settings.txt, enter the filename so the full command looks like this: `!python run_cases.py -f [my_settings].txt [-q]`. The `-q` (quiet) flag suppresses a warning that reminds the user to check if all necessary steps were executed. "
   ]
  },
  {
   "cell_type": "code",
   "execution_count": 12,
   "id": "ef0002e2",
   "metadata": {},
   "outputs": [
    {
     "name": "stdout",
     "output_type": "stream",
     "text": [
      "\r\n",
      "Preparing to run cases specified in /home/user/NorESM_LandSites_Platform/notebooks/../landsites_tools/settings.txt.\r\n",
      "\r\n",
      "\r\n",
      " Provided inputs valid, the output files will be in /home/user/NorESM_LandSites_Platform/data/output.\r\n",
      "\r\n",
      "\r\n",
      "Start running cases. This step can take a while...\r\n",
      "\r\n",
      "/bin/sh: ./case.submit: No such file or directory\r\n",
      "Running ...Traceback (most recent call last):\r\n",
      "  File \"../landsites_tools/simulation/run_cases.py\", line 113, in <module>\r\n",
      "    subprocess.run(bash_command, shell=True, check=True)\r\n",
      "  File \"/usr/lib64/python3.6/subprocess.py\", line 438, in run\r\n",
      "    output=stdout, stderr=stderr)\r\n",
      "subprocess.CalledProcessError: Command 'cd  ; ./case.submit;' returned non-zero exit status 127.\r\n"
     ]
    }
   ],
   "source": [
    "!python ../landsites_tools/simulation/run_cases.py -q"
   ]
  },
  {
   "cell_type": "markdown",
   "id": "df8696c0",
   "metadata": {},
   "source": [
    "You are now running your simulations! After the run terminates, you can find the output in the directories specified in the `[my_settings].txt` file, by deafult under `data/output`. Make sure you don't stop the container until the simulation has finished. You may want to go back to the [user guide](https://noresmhub.github.io/NorESM_LandSites_Platform/user_guide)."
   ]
  }
 ],
 "metadata": {
  "kernelspec": {
   "display_name": "Python 3",
   "language": "python",
   "name": "python3"
  },
  "language_info": {
   "codemirror_mode": {
    "name": "ipython",
    "version": 3
   },
   "file_extension": ".py",
   "mimetype": "text/x-python",
   "name": "python",
   "nbconvert_exporter": "python",
   "pygments_lexer": "ipython3",
   "version": "3.6.8"
  }
 },
 "nbformat": 4,
 "nbformat_minor": 5
}
