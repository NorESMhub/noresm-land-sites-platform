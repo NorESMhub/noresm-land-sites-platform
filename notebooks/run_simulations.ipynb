{
 "cells": [
  {
   "cell_type": "markdown",
   "id": "a1c2ee3f",
   "metadata": {},
   "source": [
    "# Run your simulations\n",
    "\n",
    "Link back to the [user guide](https://noresmhub.github.io/NorESM_LandSites_Platform/user_guide)\n",
    "\n",
    "In this notebook, you can hit the play button next to code cells to run the code (or use the Run button etc at the top).\n",
    "\n",
    "### Make your simulation case(s):\n",
    "\n",
    "Execute the make_cases.py script with the python command to make the simulation cases you specified in your settings file"
   ]
  },
  {
   "cell_type": "code",
   "execution_count": null,
   "id": "f99cb7da",
   "metadata": {},
   "outputs": [],
   "source": [
    "!python ../landsites_tools/simulation/make_cases.py"
   ]
  },
  {
   "cell_type": "markdown",
   "id": "391d1f18",
   "metadata": {},
   "source": [
    "\n",
    "The following steps will be executed with the make_cases.py script:\n",
    "\n",
    "1. Download/check the input data\n",
    "    - Input data for the available land sites will be automatically downloaded from `https://ns2806k.webs.sigma2.no/EMERALD/EMERALD_platform/inputdata_fates_platform/`\n",
    "    - You can specify the corresponding target root directory in the settings file\n",
    "    - You can provide a custom suffix (name ending that will be added to all input dirs) via the `-sfxi [_my_suffix]` flag, default is `_input`.\n",
    "2. Create case directories\n",
    "    - You can specify the corresponding root directory in the settings file\n",
    "    - You can provide a custom suffix (name ending that will be added to all case dirs) via the `-sfxc [_my_suffix]` flag, default is none.\n",
    "3. Change CLM and FATES parameters\n",
    "    - Changes all parameter values for CLM and FATES that are provided in the settings file\n",
    "4. Create custom output directories\n",
    "    - You can specify the corresponding root directory in the settings file\n",
    "    - You can provide a custom suffix (name ending that will be added to all output dirs) via the `-sfxo [_my_suffix]` flag, default is `_output`.\n",
    "5. \"Set up\" and \"build\" cases\n",
    "    - Executes `./case.setup` and `./case.build`\n",
    "6. Automatically add specified case, input, and output directories to the settings.txt file\n"
   ]
  },
  {
   "cell_type": "markdown",
   "id": "80029ae0",
   "metadata": {},
   "source": [
    "### Start running your case(s):"
   ]
  },
  {
   "cell_type": "markdown",
   "id": "12420920",
   "metadata": {},
   "source": [
    "If your settings file is named something other than settings.txt, enter the filename so the full command looks like this: `!python run_cases.py -f [my_settings].txt [-q]`. The `-q` (quiet) flag suppresses a warning that reminds the user to check if all necessary steps were executed. "
   ]
  },
  {
   "cell_type": "code",
   "execution_count": null,
   "id": "ef0002e2",
   "metadata": {},
   "outputs": [],
   "source": [
    "!python ../landsites_tools/simulation/run_cases.py -q"
   ]
  },
  {
   "cell_type": "markdown",
   "id": "df8696c0",
   "metadata": {},
   "source": [
    "You are now running your simulations! After the run terminates, you can find the output in the directories specified in the `[my_settings].txt` file, by deafult under `data/output`. Make sure you don't stop the container until the simulation has finished. You may want to go back to the [user guide](https://noresmhub.github.io/NorESM_LandSites_Platform/user_guide)."
   ]
  }
 ],
 "metadata": {
  "kernelspec": {
   "display_name": "Python 3",
   "language": "python",
   "name": "python3"
  },
  "language_info": {
   "codemirror_mode": {
    "name": "ipython",
    "version": 3
   },
   "file_extension": ".py",
   "mimetype": "text/x-python",
   "name": "python",
   "nbconvert_exporter": "python",
   "pygments_lexer": "ipython3",
   "version": "3.6.8"
  }
 },
 "nbformat": 4,
 "nbformat_minor": 5
}
