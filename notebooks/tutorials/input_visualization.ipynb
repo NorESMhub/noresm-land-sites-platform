{
 "cells": [
  {
   "cell_type": "markdown",
   "metadata": {},
   "source": [
    "# Input data visualization\n",
    "\n",
    "Use this notebook in the container to explore and understand the [input data](https://noresmhub.github.io/NorESM_LandSites_Platform/#input-data). Use the Run button or Ctrl+Enter to execute code cells.\n",
    "\n",
    "#### Prerequisites:\n",
    "\n",
    "- Having downloaded the input data. \n",
    "\n",
    "#### Table of contents\n",
    "\n",
    "1. Atmospheric forcing variables\n",
    "    - radiation, temperature, precipitation, and wind\n",
    "2. Surface data\n",
    "    - population density, CLM parameters, FATES parameters\n"
   ]
  },
  {
   "cell_type": "markdown",
   "metadata": {},
   "source": [
    "Input data files are downloaded from a server (<https://ns2806k.webs.sigma2.no/EMERALD/EMERALD_platform/inputdata_fates_platform/>) and stored in the `data/input` folder in the container. You can download and look at the raw files, and even edit them and upload them back into the container if you want to change the forcing. The .tar files are compressed, and can be opened or unzipped with e.g. 7-zip. The data files are stored in [.nc (NetCDF)](https://www.unidata.ucar.edu/software/netcdf/) format, which can be viewed using [Panoply](https://www.giss.nasa.gov/tools/panoply/), or packages in Python or [R](https://cran.r-project.org/web/packages/ncdf4/index.html). Or just follow this notebook to look at a few of the input variables!\n",
    "\n",
    "Import libraries:"
   ]
  },
  {
   "cell_type": "code",
   "execution_count": null,
   "metadata": {},
   "outputs": [],
   "source": [
    "import xarray as xr\n",
    "import matplotlib.pyplot as plt\n",
    "import glob\n",
    "xr.set_options(display_style=\"html\")"
   ]
  },
  {
   "cell_type": "markdown",
   "metadata": {},
   "source": [
    "# 1. Atmospheric forcing variables\n",
    "\n",
    "Data on these variables are required for the CLM model to run:\n",
    "\n",
    "- Incident solar radiation (FSDS), W/m2\n",
    "- Temperature at the lowest atmospheric level (TBOT), degrees K (or can be C)\n",
    "- Precipitation (PRECTmms), mm/s\n",
    "- Wind speed at the lowest atmospheric level (WIND), m/s\n",
    "\n",
    "The code below will load in the data and plot them over time. The code is set up for site ALP1, and will look for data in the ALP1 case directory. If you want to plot the data for another site/case, change the case name in `input_path_str` (both in the middle and at the end of the folder path!)."
   ]
  },
  {
   "cell_type": "code",
   "execution_count": null,
   "metadata": {},
   "outputs": [],
   "source": [
    "# define where to find the data files\n",
    "input_path_str = \"./data/ALP1_2.0.0_input/inputdata/atm/datm7/GSWP3v1/ALP1/\""
   ]
  },
  {
   "cell_type": "markdown",
   "metadata": {},
   "source": [
    "Now we have specified where the files are. Next, we open the files and load them in as a data set."
   ]
  },
  {
   "cell_type": "code",
   "execution_count": null,
   "metadata": {},
   "outputs": [],
   "source": [
    "# open and combine all the NetCDF files present in the folder into a dataset\n",
    "nc_data = xr.open_mfdataset(input_path_str + '*.nc', concat_dim='time', combine='nested', decode_times=True)\n",
    "# the 'open_mfdataset' function creates a multi-file dataset\n",
    "# NB! Running this code cell can take some time. Be patient until the \"In []: on the left goes from * to a number!"
   ]
  },
  {
   "cell_type": "code",
   "execution_count": null,
   "metadata": {
    "scrolled": true
   },
   "outputs": [],
   "source": [
    "# decode time format to prevent bug\n",
    "# Workaround (not doing it creates dependency errors within cftime module)\n",
    "nc_data[\"time\"] = nc_data.indexes[\"time\"].to_datetimeindex()\n",
    "\n",
    "# under this box you might get a warning (pink box)."
   ]
  },
  {
   "cell_type": "markdown",
   "metadata": {},
   "source": [
    "You have now combined a lof of files with monthly data, of several variables, into one data set (nc_data). The data object, `nc_data`, includes all the data files in the atmospheric forcing folder.\n",
    "NetCDF files can be a bit confusing for beginners, so let's print our data set first to look at the structure and find which variables we have."
   ]
  },
  {
   "cell_type": "code",
   "execution_count": null,
   "metadata": {},
   "outputs": [],
   "source": [
    "print(nc_data)"
   ]
  },
  {
   "cell_type": "markdown",
   "metadata": {},
   "source": [
    "The dataset dimensions give the spatial and temporal span of the data. \n",
    "The Data variables are first the west,east,south,north edges of the site, coordinates, and then we get the climatic variables the needs to force the climate.\n",
    "\n",
    "Let's focus on these ones:\n",
    "- FSDS = Incident solar radiation\n",
    "- PRECTmms = precipitation\n",
    "- TBOT= Temperature at the lowest atmospheric level, in degrees Kelvin\n",
    "- WIND = Wind speed at the lowest atmospheric level, in metres/second\n",
    "\n",
    "Plot them one by one using the cells below. "
   ]
  },
  {
   "cell_type": "code",
   "execution_count": null,
   "metadata": {},
   "outputs": [],
   "source": [
    "# plot the solar radiation for two years\n",
    "\n",
    "# subset the data to get two years (change year if you want)\n",
    "y1901 = nc_data.sel(time=slice('1901-01-01', '1901-12-31'))\n",
    "y1902 = nc_data.sel(time=slice('1902-01-01', '1902-12-31'))\n",
    "\n",
    "# plot FSDS over two years\n",
    "fig, (ax1,ax2) = plt.subplots(1,2, figsize=(15,4)) # get the plots next to each other\n",
    "y1901['FSDS'].plot(ax=ax1)\n",
    "y1902['FSDS'].plot(ax=ax2)"
   ]
  },
  {
   "cell_type": "markdown",
   "metadata": {},
   "source": [
    "Look at the time axis. How does solar radiation vary through the day, and through the year?\n",
    "\n",
    "Now we move on to the next variable, precipitation (PRECTmms)."
   ]
  },
  {
   "cell_type": "code",
   "execution_count": null,
   "metadata": {},
   "outputs": [],
   "source": [
    "# plot precipitation for two years\n",
    "\n",
    "# subset the data to get two years (change year if you want)\n",
    "y1901 = nc_data.sel(time=slice('1901-01-01', '1901-12-31'))\n",
    "y1902 = nc_data.sel(time=slice('1902-01-01', '1902-12-31'))\n",
    "\n",
    "# plot\n",
    "fig, (ax1,ax2) = plt.subplots(1,2, figsize=(15,4)) # get the plots next to each other\n",
    "y1901['PRECTmms'].plot(ax=ax1)\n",
    "y1902['PRECTmms'].plot(ax=ax2)"
   ]
  },
  {
   "cell_type": "markdown",
   "metadata": {},
   "source": [
    "How is the variation in this variable relative to the solar radiation we plotted above? \n",
    "\n",
    "Next it temperature (=TBOT) at the lowest atmospheric level."
   ]
  },
  {
   "cell_type": "code",
   "execution_count": null,
   "metadata": {},
   "outputs": [],
   "source": [
    "# before plotting temperature, we can convert from Kelvin to Celsius\n",
    "TBOT = nc_data.TBOT - 273.15\n",
    "TBOT.attrs = nc_data.TBOT.attrs\n",
    "TBOT.attrs[\"units\"] = \"C\"\n",
    "TBOT"
   ]
  },
  {
   "cell_type": "code",
   "execution_count": null,
   "metadata": {},
   "outputs": [],
   "source": [
    "# plot Temperature at the lowest atmospheric level, in degrees Celsius\n",
    "\n",
    "# subset two years\n",
    "TBOT1901 = TBOT.sel(time=slice('1901-01-01', '1901-12-31'))\n",
    "TBOT1902 = TBOT.sel(time=slice('1902-01-01', '1902-12-31'))\n",
    "\n",
    "# plot two years next to each other\n",
    "fig, (ax1,ax2) = plt.subplots(1,2, figsize=(15,4))\n",
    "TBOT1901.plot(ax=ax1)\n",
    "TBOT1902.plot(ax=ax2)\n",
    "\n",
    "# Alternatively, plot temperature in entire data set\n",
    "#nc_data['TBOT'].plot(aspect=2, size=8)"
   ]
  },
  {
   "cell_type": "markdown",
   "metadata": {},
   "source": [
    "Notice the time axes, and the variation between years. Does it look realistic for your site?\n",
    "\n",
    "Next up is wind speed."
   ]
  },
  {
   "cell_type": "code",
   "execution_count": null,
   "metadata": {
    "scrolled": true
   },
   "outputs": [],
   "source": [
    "# plot wind speed at the lowest atmospheric level, in metres/second, for one year\n",
    "y1901['WIND'].plot(aspect=2, size=8)\n",
    "\n",
    "# optional: add code to make different subsets and new plots for other time invervals\n"
   ]
  },
  {
   "cell_type": "markdown",
   "metadata": {},
   "source": [
    "How do you think wind speed affects the vegetation? And how could the vegetation affect wind speed?\n",
    "\n",
    "-----------\n",
    "\n",
    "That concludes the minimum required atmospheric forcing data! If you want to plot more, or other, variables, you can try to add cells to this notebook and copy from the plotting code above. For more plotting choices, see e.g. this guide: https://xarray.pydata.org/en/v0.12.1/plotting.html\n",
    "\n",
    "Some food for thought: Notice which variables are very regular, and which have more variation. Think about how they relate to the site location (in the world and in the local landscape). Think about how the period the input data come from might affect your simulations in terms of what climatic conditions they represent. When is it OK, or not OK, to use input data from some years to run simulations for a different/future time period?"
   ]
  },
  {
   "cell_type": "code",
   "execution_count": null,
   "metadata": {},
   "outputs": [],
   "source": []
  },
  {
   "cell_type": "markdown",
   "metadata": {},
   "source": [
    "# 2. Surface data\n",
    "\n",
    "[Surface data](https://noresmhub.github.io/NorESM_LandSites_Platform/#surface-data) are kept under the lnd=land instead of the atm=atmosphere directory within our input data folder. Under 'clm2', you will find: \n",
    "\n",
    "- 'firedata'\n",
    "    - population density \n",
    "- 'paramdata'\n",
    "    - CLM5 parameters: many parameters, covering e.g. Plant Functional Types (PFTs), allocation of carbon, photosynthetic pathway\n",
    "    - FATES parameters: many parameters, covering e.g. Plant Functional Types (PFTs), allometry, carbon pools, nitrogen uptake, mortality, recruitment, fuel load for fire module \n",
    "- 'snicardata'\n",
    "    - snow \"growth\" parameters\n",
    "    - snow \"optics\"\n",
    "- 'surfdata_map'\n",
    "    - surface data:  soil depth & other properties, albedo & thermal conductance of different surface types, and fraction of gridcell covered by vegetation, land, & other land cover types\n",
    "- 'urbandata'\n",
    "    - urban classes, building interior temperature\n",
    "\n",
    "Similar to above, read in the path to the files and plot a few variables. We can start with 'firedata' which contains population densities."
   ]
  },
  {
   "cell_type": "code",
   "execution_count": null,
   "metadata": {},
   "outputs": [],
   "source": [
    "# define where to find the data files\n",
    "input_path_str2 = \"./data/ALP1_2.0.0_input/inputdata/lnd/clm2/firedata/ALP1\"\n",
    "\n",
    "# open and combine all the NetCDF data files + decode time to prevent bug (expect pink warning box!)\n",
    "firedata = xr.open_mfdataset(input_path_str2 + '/*.nc', combine='by_coords', decode_times=True)\n",
    "firedata[\"time\"] = firedata.indexes[\"time\"].to_datetimeindex()"
   ]
  },
  {
   "cell_type": "markdown",
   "metadata": {},
   "source": [
    "Take a look at the data set to see what we have:"
   ]
  },
  {
   "cell_type": "code",
   "execution_count": null,
   "metadata": {},
   "outputs": [],
   "source": [
    "print(firedata)"
   ]
  },
  {
   "cell_type": "markdown",
   "metadata": {},
   "source": [
    "The 'firedata' is a bit different from the last dataset, and has more metadata but fewer variables.\n",
    "Let's try to plot the first one, `hdm`, to see what it is."
   ]
  },
  {
   "cell_type": "code",
   "execution_count": null,
   "metadata": {},
   "outputs": [],
   "source": [
    "# plot\n",
    "firedata['hdm'].plot(aspect=2, size=8)"
   ]
  },
  {
   "cell_type": "markdown",
   "metadata": {},
   "source": [
    "What are we looking at? Is this realistic for the site?"
   ]
  },
  {
   "cell_type": "markdown",
   "metadata": {},
   "source": [
    "### CLM parameters\n",
    "\n",
    "Next, let's read in the parameters for the CLM model."
   ]
  },
  {
   "cell_type": "code",
   "execution_count": null,
   "metadata": {},
   "outputs": [],
   "source": [
    "# path to the files\n",
    "input_path_str3 = \"./data/ALP1_2.0.0_input/inputdata/lnd/clm2/paramdata/\"\n",
    "# open CLM parameter file\n",
    "clm_params = xr.open_dataset(input_path_str3 + 'clm5_params.c200402.nc')"
   ]
  },
  {
   "cell_type": "code",
   "execution_count": null,
   "metadata": {},
   "outputs": [],
   "source": [
    "clm_params"
   ]
  },
  {
   "cell_type": "markdown",
   "metadata": {},
   "source": [
    "Click the arrow to expand the Data variables. You can see from the long list that the CLM model has a lot of parameters. Can you recognise or guess what some of the parameters mean? Figuring out the meaning of single parameters can be a bit difficult, but some information is in the [CLM documentation](https://escomp.github.io/ctsm-docs/versions/release-clm5.0/html/users_guide/setting-up-and-running-a-case/master_list_file.html). To fully understand how each parameter is used, you need to dig into the model code. Because we use the FATES model for natural vegetation, some of the CLM parameters that govern the simpler, standard vegetation model are not in use.\n",
    "\n",
    "For now, let's just look at a few selected variables. We can start with the land model (CLM) parameter 'lake_decomp_fact'. What is it? Try to replace the parameter with a few others from the list below and run the code cell again:\n",
    "\n",
    "- pftnum                      \n",
    "- organic_max\n",
    "- accum_factor\n",
    "- planting_temp               \n",
    "- max_SH_planting_date\n",
    "- crop   \n",
    "- csoilc                      \n",
    "- cv  \n",
    "- cwd_fcel  \n",
    "- minfuel   \n",
    "- oxinhib\n",
    "\n",
    "Feel free to explore different or additional parameters from the full list. Note that some parameters are single values, while others have one value per Plant Functional Type (natural vegetation + crop types)"
   ]
  },
  {
   "cell_type": "code",
   "execution_count": null,
   "metadata": {},
   "outputs": [],
   "source": [
    "# view single parameters (data variables) from the clm_params data\n",
    "clm_params['lake_decomp_fact']"
   ]
  },
  {
   "cell_type": "markdown",
   "metadata": {},
   "source": [
    "### FATES parameters\n",
    "\n",
    "Now we can do the same to look through some FATES model parameters. For detailed information about how the model works, see the [FATES documentation](https://fates-users-guide.readthedocs.io/projects/tech-doc/en/stable/)."
   ]
  },
  {
   "cell_type": "code",
   "execution_count": null,
   "metadata": {},
   "outputs": [],
   "source": [
    "# open FATES parameter file\n",
    "fates_params = xr.open_dataset(input_path_str3 + 'fates_params_api.14.0.0_12pft_c200921.nc')"
   ]
  },
  {
   "cell_type": "code",
   "execution_count": null,
   "metadata": {},
   "outputs": [],
   "source": [
    "fates_params"
   ]
  },
  {
   "cell_type": "markdown",
   "metadata": {},
   "source": [
    "After you have run the next cell to see the names of PFTs included in your case, replace the parameter name with another from the list and re-run the code cell:\n",
    "\n",
    "- fates_leaf_slamax\n",
    "- fates_prt_organ_name                   \n",
    "- fates_branch_turnover                  \n",
    "- fates_phen_evergreen   \n",
    "- fates_recruit_hgt_min                   \n"
   ]
  },
  {
   "cell_type": "code",
   "execution_count": null,
   "metadata": {
    "scrolled": true
   },
   "outputs": [],
   "source": [
    "fates_params['fates_recruit_hgt_min']"
   ]
  },
  {
   "cell_type": "markdown",
   "metadata": {},
   "source": [
    "the end\n",
    "\n",
    "-------------------\n",
    "\n",
    "go check if your model run has finished!"
   ]
  }
 ],
 "metadata": {
  "interpreter": {
   "hash": "983c4ec046e047c0e4152b6391a472c3cfc37e202f34e2fe152e9bc3b16b4fa1"
  },
  "kernelspec": {
   "display_name": "Python 3 (ipykernel)",
   "language": "python",
   "name": "python3"
  },
  "language_info": {
   "codemirror_mode": {
    "name": "ipython",
    "version": 3
   },
   "file_extension": ".py",
   "mimetype": "text/x-python",
   "name": "python",
   "nbconvert_exporter": "python",
   "pygments_lexer": "ipython3",
   "version": "3.9.10"
  }
 },
 "nbformat": 4,
 "nbformat_minor": 4
}